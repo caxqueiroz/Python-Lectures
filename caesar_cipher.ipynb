{
 "cells": [
  {
   "cell_type": "code",
   "execution_count": null,
   "metadata": {},
   "outputs": [],
   "source": [
    "# Caesar Cipher\n",
    "\n",
    "MAX_KEY_SIZE = 26"
   ]
  },
  {
   "cell_type": "code",
   "execution_count": null,
   "metadata": {},
   "outputs": [],
   "source": [
    "def get_mode():\n",
    "\n",
    "      while True:\n",
    "            print('Do you wish to encrypt or decrypt a message?')\n",
    "            mode = input().lower()\n",
    "            if mode in 'encrypt e decrypt d'.split():\n",
    "                return mode\n",
    "            else:\n",
    "                print('Enter either \"encrypt\" or \"e\" or \"decrypt\" or \"d\".')\n"
   ]
  },
  {
   "cell_type": "code",
   "execution_count": null,
   "metadata": {},
   "outputs": [],
   "source": [
    "def get_message():\n",
    "    print('Enter your message:')\n",
    "    return input()\n",
    "\n",
    "def get_key():\n",
    "    key = 0\n",
    "    while True:\n",
    "        print('Enter the key number (1-%s)' % (MAX_KEY_SIZE))\n",
    "        key = int(input())\n",
    "        if (key >= 1 and key <= MAX_KEY_SIZE):\n",
    "            return key"
   ]
  },
  {
   "cell_type": "code",
   "execution_count": null,
   "metadata": {},
   "outputs": [],
   "source": [
    "def get_translated_message(mode, message, key):\n",
    "    if mode[0] == 'd':\n",
    "        key = -key\n",
    "    translated = ''\n",
    "    for symbol in message:\n",
    "        if symbol.isalpha():\n",
    "            num = ord(symbol)\n",
    "            num += key\n",
    "            if symbol.isupper():\n",
    "                if num > ord('Z'):\n",
    "                    num -= 26\n",
    "                elif num < ord('A'):\n",
    "                    num += 26\n",
    "            elif symbol.islower():\n",
    "                if num > ord('z'):\n",
    "                    num -= 26\n",
    "                elif num < ord('a'):\n",
    "                    num += 26\n",
    "            \n",
    "            translated += chr(num)\n",
    "        else:\n",
    "            translated += symbol\n",
    "    return translated"
   ]
  },
  {
   "cell_type": "code",
   "execution_count": null,
   "metadata": {},
   "outputs": [],
   "source": [
    "mode = get_mode()\n",
    "message = get_message()\n",
    "key = get_key()\n",
    "print('Your translated text is:')\n",
    "print(get_translated_message(mode, message, key))"
   ]
  }
 ],
 "metadata": {
  "kernelspec": {
   "display_name": "Python 3",
   "language": "python",
   "name": "python3"
  },
  "language_info": {
   "codemirror_mode": {
    "name": "ipython",
    "version": 3
   },
   "file_extension": ".py",
   "mimetype": "text/x-python",
   "name": "python",
   "nbconvert_exporter": "python",
   "pygments_lexer": "ipython3",
   "version": "3.6.4"
  }
 },
 "nbformat": 4,
 "nbformat_minor": 2
}
