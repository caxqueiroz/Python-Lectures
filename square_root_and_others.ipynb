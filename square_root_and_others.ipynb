{
 "cells": [
  {
   "cell_type": "code",
   "execution_count": 5,
   "metadata": {},
   "outputs": [],
   "source": [
    "## Square root"
   ]
  },
  {
   "cell_type": "code",
   "execution_count": 14,
   "metadata": {},
   "outputs": [],
   "source": [
    "def find_square_root(x):\n",
    "    if x < 0:\n",
    "        print ('Sorry, no imaginary numbers!')\n",
    "        return\n",
    "    answer = 0\n",
    "    while answer**2 < x:\n",
    "        answer = answer + 1\n",
    "    if answer**2 != x:\n",
    "        print(x, 'is not a perfect square')\n",
    "        print('Square root of ' + str(x) + ' is close to ' + str(answer - 1))\n",
    "    else:\n",
    "        print ('Square root of ' + str(x) + ' is ' + str(answer))"
   ]
  },
  {
   "cell_type": "code",
   "execution_count": 17,
   "metadata": {},
   "outputs": [
    {
     "name": "stdout",
     "output_type": "stream",
     "text": [
      "17 is not a perfect square\n",
      "Square root of 17 is close to 4\n"
     ]
    }
   ],
   "source": [
    "find_square_root(17)"
   ]
  },
  {
   "cell_type": "code",
   "execution_count": null,
   "metadata": {},
   "outputs": [],
   "source": []
  }
 ],
 "metadata": {
  "kernelspec": {
   "display_name": "Python 3",
   "language": "python",
   "name": "python3"
  },
  "language_info": {
   "codemirror_mode": {
    "name": "ipython",
    "version": 3
   },
   "file_extension": ".py",
   "mimetype": "text/x-python",
   "name": "python",
   "nbconvert_exporter": "python",
   "pygments_lexer": "ipython3",
   "version": "3.6.4"
  }
 },
 "nbformat": 4,
 "nbformat_minor": 2
}
