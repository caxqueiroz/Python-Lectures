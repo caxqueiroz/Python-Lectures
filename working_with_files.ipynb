{
 "cells": [
  {
   "cell_type": "code",
   "execution_count": 1,
   "metadata": {},
   "outputs": [
    {
     "name": "stdout",
     "output_type": "stream",
     "text": [
      "Mon May  7 08:28:39 2018\n",
      "3.6.4 \n"
     ]
    }
   ],
   "source": [
    "# The following is to know when this notebook has been run and with which python version.\n",
    "import time, sys\n",
    "print(time.ctime())\n",
    "print(sys.version.split('|')[0])"
   ]
  },
  {
   "cell_type": "markdown",
   "metadata": {},
   "source": [
    "# How to read and write files (Text)"
   ]
  },
  {
   "cell_type": "markdown",
   "metadata": {},
   "source": [
    "Adapted from Python lecture given by Christophe Morisset at IA-UNAM."
   ]
  },
  {
   "cell_type": "markdown",
   "metadata": {},
   "source": [
    "Some informations are here: http://www.tutorialspoint.com/python/python_files_io.htm"
   ]
  },
  {
   "cell_type": "markdown",
   "metadata": {},
   "source": [
    "## Reading a simple ascii file"
   ]
  },
  {
   "cell_type": "markdown",
   "metadata": {},
   "source": [
    "First of all, we will have to have some files on the hard drive to read them The following notebook cell will write a file in the same directory where the notebook has been started."
   ]
  },
  {
   "cell_type": "code",
   "execution_count": 2,
   "metadata": {},
   "outputs": [
    {
     "name": "stdout",
     "output_type": "stream",
     "text": [
      "Writing data1.dat\n"
     ]
    }
   ],
   "source": [
    "%%writefile data1.dat\n",
    "January\n",
    "February\n",
    "March\n",
    "April\n",
    "May\n",
    "June\n",
    "July\n",
    "August\n",
    "September\n",
    "October\n",
    "November\n",
    "December"
   ]
  },
  {
   "cell_type": "markdown",
   "metadata": {},
   "source": [
    "Now the goal is to read this file. The first way is to open the file, read it completely in a variable and close the file. Then we can play with the content of the file."
   ]
  },
  {
   "cell_type": "code",
   "execution_count": 3,
   "metadata": {},
   "outputs": [],
   "source": [
    "datafile = open('data1.dat', 'r') # Open the file to read it"
   ]
  },
  {
   "cell_type": "code",
   "execution_count": 4,
   "metadata": {},
   "outputs": [],
   "source": [
    "data = datafile.readlines() # The variable data will receive the content of the file."
   ]
  },
  {
   "cell_type": "code",
   "execution_count": 5,
   "metadata": {},
   "outputs": [],
   "source": [
    "datafile.close() # Not need anymore of the file."
   ]
  },
  {
   "cell_type": "code",
   "execution_count": 6,
   "metadata": {},
   "outputs": [
    {
     "name": "stdout",
     "output_type": "stream",
     "text": [
      "<class 'list'>\n"
     ]
    }
   ],
   "source": [
    "print(type(data)) # The data file is stored in the form of a list, each element of the list corresponding to a row of the list."
   ]
  },
  {
   "cell_type": "code",
   "execution_count": 7,
   "metadata": {},
   "outputs": [
    {
     "name": "stdout",
     "output_type": "stream",
     "text": [
      "['January\\n', 'February\\n', 'March\\n', 'April\\n', 'May\\n', 'June\\n', 'July\\n', 'August\\n', 'September\\n', 'October\\n', 'November\\n', 'December']\n"
     ]
    }
   ],
   "source": [
    "print(data) # Each row is a string and terminates with \\n, symbol of END OF LINE."
   ]
  },
  {
   "cell_type": "code",
   "execution_count": 8,
   "metadata": {},
   "outputs": [
    {
     "name": "stdout",
     "output_type": "stream",
     "text": [
      "12\n"
     ]
    }
   ],
   "source": [
    "print(len(data)) # number of rows"
   ]
  },
  {
   "cell_type": "code",
   "execution_count": 9,
   "metadata": {},
   "outputs": [
    {
     "name": "stdout",
     "output_type": "stream",
     "text": [
      "January\n",
      " tralala\n"
     ]
    }
   ],
   "source": [
    "print(data[0], 'tralala')"
   ]
  },
  {
   "cell_type": "code",
   "execution_count": 10,
   "metadata": {},
   "outputs": [
    {
     "name": "stdout",
     "output_type": "stream",
     "text": [
      "January\n",
      "\n",
      "February\n",
      "\n",
      "March\n",
      "\n",
      "April\n",
      "\n",
      "May\n",
      "\n",
      "June\n",
      "\n",
      "July\n",
      "\n",
      "August\n",
      "\n",
      "September\n",
      "\n",
      "October\n",
      "\n",
      "November\n",
      "\n",
      "December\n"
     ]
    }
   ],
   "source": [
    "for row in data:\n",
    "    print(row)"
   ]
  },
  {
   "cell_type": "code",
   "execution_count": 11,
   "metadata": {},
   "outputs": [
    {
     "name": "stdout",
     "output_type": "stream",
     "text": [
      "January\n",
      "\n",
      "February\n",
      "\n",
      "March\n",
      "\n",
      "April\n",
      "\n",
      "May\n",
      "\n",
      "June\n",
      "\n",
      "July\n",
      "\n",
      "August\n",
      "\n",
      "September\n",
      "\n",
      "October\n",
      "\n",
      "November\n",
      "\n",
      "December\n"
     ]
    }
   ],
   "source": [
    "# In python :\n",
    "for row in data:\n",
    "    print(row),"
   ]
  },
  {
   "cell_type": "code",
   "execution_count": 12,
   "metadata": {},
   "outputs": [
    {
     "name": "stdout",
     "output_type": "stream",
     "text": [
      "January\n",
      "February\n",
      "March\n",
      "April\n",
      "May\n",
      "June\n",
      "July\n",
      "August\n",
      "September\n",
      "October\n",
      "November\n",
      "December"
     ]
    }
   ],
   "source": [
    "# In python 3:\n",
    "for row in data:\n",
    "    print(row, end='')"
   ]
  },
  {
   "cell_type": "code",
   "execution_count": 21,
   "metadata": {},
   "outputs": [
    {
     "name": "stdout",
     "output_type": "stream",
     "text": [
      "<class 'str'>\n"
     ]
    }
   ],
   "source": [
    "print(type(data[0])) # Each element is a string"
   ]
  },
  {
   "cell_type": "markdown",
   "metadata": {},
   "source": [
    "Now it is easy to separate each field with the split command: "
   ]
  },
  {
   "cell_type": "code",
   "execution_count": 22,
   "metadata": {},
   "outputs": [
    {
     "name": "stdout",
     "output_type": "stream",
     "text": [
      "['January']\n",
      "['February']\n",
      "['March']\n",
      "['April']\n",
      "['May']\n",
      "['June']\n",
      "['July']\n",
      "['August']\n",
      "['September']\n",
      "['October']\n",
      "['November']\n",
      "['December']\n"
     ]
    }
   ],
   "source": [
    "for row in data:\n",
    "    print(row.split())"
   ]
  },
  {
   "cell_type": "markdown",
   "metadata": {},
   "source": [
    "## How to treat special rows (headers, comments)"
   ]
  },
  {
   "cell_type": "code",
   "execution_count": 24,
   "metadata": {},
   "outputs": [
    {
     "name": "stdout",
     "output_type": "stream",
     "text": [
      "Overwriting data2.dat\n"
     ]
    }
   ],
   "source": [
    "%%writefile data2.dat\n",
    "# The following data are for test purpose\n",
    "N    f   x   y type\n",
    "1   2.3  6   8 star\n",
    "2   3.5  7   9 galaxy\n",
    "3  -4.2  5   7 cluster\n",
    "#4  -10.5  5  7 test"
   ]
  },
  {
   "cell_type": "code",
   "execution_count": 25,
   "metadata": {},
   "outputs": [
    {
     "name": "stdout",
     "output_type": "stream",
     "text": [
      "# The following data are for test purpose\r\n",
      "N    f   x   y type\r\n",
      "1   2.3  6   8 star\r\n",
      "2   3.5  7   9 galaxy\r\n",
      "3  -4.2  5   7 cluster\r\n",
      "#4  -10.5  5  7 test"
     ]
    }
   ],
   "source": [
    "!cat data2.dat # Just to check that the # comments are also in the file"
   ]
  },
  {
   "cell_type": "markdown",
   "metadata": {},
   "source": [
    "The file has to be read row by row, to be sure that special cases are treated."
   ]
  },
  {
   "cell_type": "code",
   "execution_count": 26,
   "metadata": {},
   "outputs": [
    {
     "name": "stdout",
     "output_type": "stream",
     "text": [
      "# The following data are for test purpose\n",
      "N    f   x   y type\n",
      "['1   2.3  6   8 star\\n', '2   3.5  7   9 galaxy\\n', '3  -4.2  5   7 cluster\\n']\n"
     ]
    }
   ],
   "source": [
    "datafile = open('data2.dat', 'r') # Open the file to read it\n",
    "\n",
    "row = datafile.readline() # this reads only one line\n",
    "first_comment = row\n",
    "print(first_comment, end='')\n",
    "\n",
    "row = datafile.readline() # this reads only one line\n",
    "header = row\n",
    "print(header, end='')\n",
    "\n",
    "data = []\n",
    "while True: # loops until exit by break command\n",
    "    row = datafile.readline()\n",
    "    if row == '':\n",
    "        break\n",
    "    if row[0] != '#' and row[0] != '\\n': # comment lines are skipped\n",
    "        data.append(row)\n",
    "datafile.close()\n",
    "print(data)"
   ]
  },
  {
   "cell_type": "code",
   "execution_count": 27,
   "metadata": {},
   "outputs": [
    {
     "name": "stdout",
     "output_type": "stream",
     "text": [
      "# The following data are for test purpose\n",
      "N    f   x   y type\n",
      "['1   2.3  6   8 star\\n', '2   3.5  7   9 galaxy\\n', '3  -4.2  5   7 cluster\\n']\n"
     ]
    }
   ],
   "source": [
    "datafile = open('data2.dat', 'r') # Open the file to read it\n",
    "row = datafile.readline() # this reads only one line\n",
    "first_comment = row\n",
    "print(first_comment, end='')\n",
    "row = datafile.readline() # this reads only one line\n",
    "header = row\n",
    "print(header, end='')\n",
    "data = []\n",
    "row = datafile.readline()\n",
    "while row != '': # loops until exit by break command\n",
    "    if row[0] != '#': # comment lines are skipped\n",
    "        data.append(row)\n",
    "    row = datafile.readline()\n",
    "datafile.close()\n",
    "print(data)"
   ]
  },
  {
   "cell_type": "code",
   "execution_count": 28,
   "metadata": {},
   "outputs": [
    {
     "name": "stdout",
     "output_type": "stream",
     "text": [
      "['N    f   x   y type\\n', '1   2.3  6   8 star\\n', '2   3.5  7   9 galaxy\\n', '3  -4.2  5   7 cluster\\n']\n"
     ]
    }
   ],
   "source": [
    "# very shorter way to deal with the file. No need to look for the end of the file.\n",
    "datafile = open('data2.dat', 'r') # Open the file to read it\n",
    "data = []\n",
    "for row in datafile:\n",
    "    if row[0] != '#': # comment lines are skipped\n",
    "        data.append(row)  \n",
    "datafile.close()\n",
    "print(data)\n",
    "# This way will include the header in the data... Not what we want"
   ]
  },
  {
   "cell_type": "code",
   "execution_count": 29,
   "metadata": {},
   "outputs": [
    {
     "name": "stdout",
     "output_type": "stream",
     "text": [
      "N    f   x   y type\n",
      "['1   2.3  6   8 star\\n', '2   3.5  7   9 galaxy\\n', '3  -4.2  5   7 cluster\\n']\n",
      "['# The following data are for test purpose\\n', '#4  -10.5  5  7 test']\n"
     ]
    }
   ],
   "source": [
    "# very shorter way to deal with the file:\n",
    "# we know that the header is the first no-comment line in the file.\n",
    "datafile = open('data2.dat', 'r') # Open the file to read it\n",
    "data = []\n",
    "comments = [] # we can keep the comments for some usage\n",
    "header_read = False # We will turn it to True once the header is read\n",
    "for row in datafile:\n",
    "    if row[0] != '#': # comment lines are skipped\n",
    "        if not header_read:\n",
    "            header = row\n",
    "            header_read = True # next time, data will be read\n",
    "        else:\n",
    "            data.append(row)\n",
    "    else:\n",
    "        comments.append(row)\n",
    "datafile.close()\n",
    "print(header, end='')\n",
    "print(data)\n",
    "print(comments)"
   ]
  },
  {
   "cell_type": "code",
   "execution_count": 30,
   "metadata": {},
   "outputs": [
    {
     "name": "stdout",
     "output_type": "stream",
     "text": [
      "N    f   x   y type\n",
      "\n",
      "[(1, 2.3, 6.0, 8.0, 'star'), (2, 3.5, 7.0, 9.0, 'galaxy'), (3, -4.2, 5.0, 7.0, 'cluster')]\n",
      "['# The following data are for test purpose\\n', '#4  -10.5  5  7 test']\n"
     ]
    }
   ],
   "source": [
    "# Alternative way using \"with\". No need to close the file, done when the \"with\" block is terminated.\n",
    "data = []\n",
    "comments = []\n",
    "header_read = False\n",
    "def change_type(row_split):\n",
    "    # This function change the type of the data read from the file from 5 strings into int, 3 floats and a string\n",
    "    # It also return the result in form of a tuple\n",
    "    return (int(row_split[0]), \n",
    "            float(row_split[1]), \n",
    "            float(row_split[2]), \n",
    "            float(row_split[3]), \n",
    "            row_split[4])\n",
    "with open('data2.dat', 'r') as datafile:\n",
    "    for row in datafile:\n",
    "        if row[0] != '#' and row[0] != '\\n': # comment lines are skipped\n",
    "            if not header_read:\n",
    "                header = row\n",
    "                header_read = True\n",
    "            else:\n",
    "                data.append(change_type(row.split()))\n",
    "        else:\n",
    "            comments.append(row)\n",
    "print(header)\n",
    "print(data)\n",
    "print(comments)"
   ]
  },
  {
   "cell_type": "markdown",
   "metadata": {},
   "source": [
    "## Writing files"
   ]
  },
  {
   "cell_type": "markdown",
   "metadata": {},
   "source": [
    "### Simple \"write\" method from \"open\" class"
   ]
  },
  {
   "cell_type": "code",
   "execution_count": 33,
   "metadata": {},
   "outputs": [],
   "source": [
    "f = open('data10.dat', 'w')"
   ]
  },
  {
   "cell_type": "code",
   "execution_count": 34,
   "metadata": {},
   "outputs": [
    {
     "data": {
      "text/plain": [
       "7"
      ]
     },
     "execution_count": 34,
     "metadata": {},
     "output_type": "execute_result"
    }
   ],
   "source": [
    "f.write('tralala')\n",
    "f.write('trololo')"
   ]
  },
  {
   "cell_type": "code",
   "execution_count": 35,
   "metadata": {},
   "outputs": [],
   "source": [
    "f.close()"
   ]
  },
  {
   "cell_type": "code",
   "execution_count": 36,
   "metadata": {},
   "outputs": [
    {
     "name": "stdout",
     "output_type": "stream",
     "text": [
      "tralalatrololo"
     ]
    }
   ],
   "source": [
    "!cat 'data10.dat' # the writing method put everything together."
   ]
  },
  {
   "cell_type": "code",
   "execution_count": 37,
   "metadata": {},
   "outputs": [
    {
     "name": "stdout",
     "output_type": "stream",
     "text": [
      "tralala\r\n",
      "trololo\r\n"
     ]
    }
   ],
   "source": [
    "f = open('data11.dat', 'w')\n",
    "f.write('tralala\\n') # \\n to indicate end of line\n",
    "f.write('trololo\\n')\n",
    "f.close()\n",
    "!cat 'data11.dat'"
   ]
  },
  {
   "cell_type": "code",
   "execution_count": 38,
   "metadata": {},
   "outputs": [
    {
     "name": "stdout",
     "output_type": "stream",
     "text": [
      "tralala\r\n",
      "trololo\r\n",
      "trilili\r\n",
      "trululu\r\n"
     ]
    }
   ],
   "source": [
    "f = open('data11.dat', 'a') # Append to the edn of the file\n",
    "f.write('trilili\\n') # \\n to indicate end of line\n",
    "f.write('trululu\\n')\n",
    "f.close()\n",
    "!cat 'data11.dat'"
   ]
  },
  {
   "cell_type": "code",
   "execution_count": 39,
   "metadata": {
    "scrolled": true
   },
   "outputs": [
    {
     "name": "stdout",
     "output_type": "stream",
     "text": [
      "Hola Sr. Smith\r\n",
      "This is a file\r\n",
      "with a lot of lines.\r\n",
      "It is easy to write it.\r\n",
      "The value of your data is 3.\r\n"
     ]
    }
   ],
   "source": [
    "a = 'Smith'\n",
    "b = 3\n",
    "with open('data12.dat', 'w') as datafile:\n",
    "    datafile.write(\"\"\"Hola Sr. {0}\n",
    "This is a file\n",
    "with a lot of lines.\n",
    "It is easy to write it.\n",
    "The value of your data is {1}.\n",
    "\"\"\".format(a, b))\n",
    "!cat \"data12.dat\""
   ]
  },
  {
   "cell_type": "markdown",
   "metadata": {},
   "source": [
    "### Using pickle (and cpickle) python specific format"
   ]
  },
  {
   "cell_type": "code",
   "execution_count": 41,
   "metadata": {},
   "outputs": [],
   "source": [
    "import numpy as np\n",
    "# Let's define some stuffs we want to keep in a file (data and variable names)\n",
    "a = 5\n",
    "b = 'Hola'\n",
    "c = np.array([1,2,3,4,5])\n",
    "def d(x):\n",
    "    \"\"\" Function mia\"\"\"\n",
    "    return x**2"
   ]
  },
  {
   "cell_type": "code",
   "execution_count": 42,
   "metadata": {},
   "outputs": [],
   "source": [
    "import pickle # The module we will use for this"
   ]
  },
  {
   "cell_type": "code",
   "execution_count": 43,
   "metadata": {},
   "outputs": [],
   "source": [
    "pickle.dump((a,b,c,d), open('Demo.pickle','wb')) # Writing the variables"
   ]
  },
  {
   "cell_type": "code",
   "execution_count": 44,
   "metadata": {},
   "outputs": [],
   "source": [
    "res = pickle.load(open('Demo.pickle', 'rb'))"
   ]
  },
  {
   "cell_type": "code",
   "execution_count": 45,
   "metadata": {},
   "outputs": [
    {
     "data": {
      "text/plain": [
       "tuple"
      ]
     },
     "execution_count": 45,
     "metadata": {},
     "output_type": "execute_result"
    }
   ],
   "source": [
    "type(res)"
   ]
  },
  {
   "cell_type": "code",
   "execution_count": 46,
   "metadata": {},
   "outputs": [
    {
     "name": "stdout",
     "output_type": "stream",
     "text": [
      "5\n",
      "Hola\n",
      "[1 2 3 4 5]\n"
     ]
    }
   ],
   "source": [
    "print(res[0])\n",
    "print(res[1])\n",
    "print(res[2])"
   ]
  },
  {
   "cell_type": "code",
   "execution_count": 47,
   "metadata": {},
   "outputs": [
    {
     "data": {
      "text/plain": [
       "25"
      ]
     },
     "execution_count": 47,
     "metadata": {},
     "output_type": "execute_result"
    }
   ],
   "source": [
    "res[3](5)"
   ]
  },
  {
   "cell_type": "code",
   "execution_count": 48,
   "metadata": {},
   "outputs": [],
   "source": [
    "a2,b2,c2,d2 = pickle.load(open('Demo.pickle', 'rb'))"
   ]
  },
  {
   "cell_type": "code",
   "execution_count": 49,
   "metadata": {},
   "outputs": [
    {
     "data": {
      "text/plain": [
       "5"
      ]
     },
     "execution_count": 49,
     "metadata": {},
     "output_type": "execute_result"
    }
   ],
   "source": [
    "a2"
   ]
  },
  {
   "cell_type": "code",
   "execution_count": 50,
   "metadata": {},
   "outputs": [
    {
     "data": {
      "text/plain": [
       "100"
      ]
     },
     "execution_count": 50,
     "metadata": {},
     "output_type": "execute_result"
    }
   ],
   "source": [
    "d2(10)"
   ]
  },
  {
   "cell_type": "code",
   "execution_count": 51,
   "metadata": {},
   "outputs": [
    {
     "name": "stdout",
     "output_type": "stream",
     "text": [
      "Help on function d in module __main__:\n",
      "\n",
      "d(x)\n",
      "    Function mia\n",
      "\n"
     ]
    }
   ],
   "source": [
    "help(d2)"
   ]
  },
  {
   "cell_type": "code",
   "execution_count": 52,
   "metadata": {},
   "outputs": [
    {
     "name": "stdout",
     "output_type": "stream",
     "text": [
      "36.3 µs ± 2.76 µs per loop (mean ± std. dev. of 7 runs, 10000 loops each)\n"
     ]
    }
   ],
   "source": [
    "%timeit res = pickle.load(open('Demo.pickle', 'rb'))"
   ]
  },
  {
   "cell_type": "code",
   "execution_count": 53,
   "metadata": {},
   "outputs": [],
   "source": [
    "import gzip\n",
    "pickle.dump((a,b,c,d), gzip.open('Demo.pklz','wb')) # Writing the variables"
   ]
  },
  {
   "cell_type": "code",
   "execution_count": 54,
   "metadata": {},
   "outputs": [],
   "source": [
    "f = gzip.open('Demo.pklz','rb')\n",
    "a, b, c, d = pickle.load(f)\n",
    "f.close()"
   ]
  }
 ],
 "metadata": {
  "kernelspec": {
   "display_name": "Python 3",
   "language": "python",
   "name": "python3"
  },
  "language_info": {
   "codemirror_mode": {
    "name": "ipython",
    "version": 3
   },
   "file_extension": ".py",
   "mimetype": "text/x-python",
   "name": "python",
   "nbconvert_exporter": "python",
   "pygments_lexer": "ipython3",
   "version": "3.6.4"
  }
 },
 "nbformat": 4,
 "nbformat_minor": 1
}
